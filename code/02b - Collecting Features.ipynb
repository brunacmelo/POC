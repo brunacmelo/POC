{
 "cells": [
  {
   "cell_type": "code",
   "execution_count": 2,
   "id": "95ef7dea",
   "metadata": {},
   "outputs": [],
   "source": [
    "# Importing libraries\n",
    "from spotipy.oauth2 import SpotifyClientCredentials\n",
    "import spotipy\n",
    "import sys\n",
    "from pprint import pprint\n",
    "import pandas as pd\n",
    "import os\n",
    "import json\n",
    "import numpy as np\n",
    "import pandas\n",
    "\n",
    "from pandas.errors import ParserError"
   ]
  },
  {
   "cell_type": "code",
   "execution_count": 2,
   "id": "f2691be0",
   "metadata": {},
   "outputs": [],
   "source": [
    "# Authentication to Spotify API\n",
    "config_file = 'config/spotify_api_credentials.json' # JSON file with your personal credentials\n",
    "with open(config_file, 'r') as f:\n",
    "    config = json.load(f)\n",
    "    \n",
    "cid = config['client_id']\n",
    "secret = config['client_id_secret']\n",
    "\n",
    "credentials = SpotifyClientCredentials(client_id=cid, client_secret=secret)\n",
    "sp = spotipy.Spotify(client_credentials_manager=credentials)"
   ]
  },
  {
   "cell_type": "code",
   "execution_count": 15,
   "id": "eb45c717",
   "metadata": {},
   "outputs": [],
   "source": [
    "market = 'br'\n",
    "years = [2021]\n",
    "hits = pd.DataFrame(columns=['song_id',\n",
    "                            'song_name',\n",
    "                            'artist_id',\n",
    "                            'artist_name',\n",
    "                            'popularity',\n",
    "                            'explicit',\n",
    "                            'song_type',\n",
    "                            'track_number',\n",
    "                            'num_artists',\n",
    "                            'num_available_markets',\n",
    "                            'release_date',\n",
    "                            'duration_ms',\n",
    "                            'key',\n",
    "                            'mode',\n",
    "                            'time_signature',\n",
    "                            'acousticness',\n",
    "                            'danceability',\n",
    "                            'energy',\n",
    "                            'instrumentalness',\n",
    "                            'liveness',\n",
    "                            'loudness',\n",
    "                            'speechiness',\n",
    "                            'valence',\n",
    "                            'tempo'\n",
    "])"
   ]
  },
  {
   "cell_type": "code",
   "execution_count": 17,
   "id": "3162a3ef",
   "metadata": {},
   "outputs": [
    {
     "name": "stdout",
     "output_type": "stream",
     "text": [
      "Finished.\n"
     ]
    }
   ],
   "source": [
    "directory = 'new_dataset'\n",
    "for filename in os.listdir(directory):\n",
    "    if filename.endswith(\".csv\"):\n",
    "        path = directory + '/' + filename\n",
    "\n",
    "        try:\n",
    "            chart = pd.read_csv(path, encoding='utf-8', delimiter=',')\n",
    "            ids = [x.split(':')[2] for x in chart['uri']]\n",
    "            chart['ID'] = ids\n",
    "            chart.to_csv(directory + '/' + filename, index=False, sep='\\t', encoding='utf-8', header=True)\n",
    "        except ParserError:\n",
    "            print('ERROR | Check file %s' % path)\n",
    "            \n",
    "print('Finished.')"
   ]
  },
  {
   "cell_type": "code",
   "execution_count": 5,
   "id": "a2472810",
   "metadata": {},
   "outputs": [
    {
     "name": "stdout",
     "output_type": "stream",
     "text": [
      "Finished.\n"
     ]
    }
   ],
   "source": [
    "directory = 'primeiro_2021'\n",
    "for filename in os.listdir(directory):\n",
    "    if filename.endswith(\".csv\"):\n",
    "        path = directory + '/' + filename\n",
    "\n",
    "        try:\n",
    "            chart = pd.read_csv(path, encoding='utf-8', delimiter=',')\n",
    "            ids = [x.split(':')[2] for x in chart['uri']]\n",
    "            chart['ID'] = ids\n",
    "            chart.to_csv(directory + '/' + filename, index=False, sep='\\t', encoding='utf-8', header=True)\n",
    "        except ParserError:\n",
    "            print('ERROR | Check file %s' % path)\n",
    "            \n",
    "print('Finished.')"
   ]
  },
  {
   "cell_type": "code",
   "execution_count": null,
   "id": "61d0aa6b",
   "metadata": {},
   "outputs": [],
   "source": []
  }
 ],
 "metadata": {
  "kernelspec": {
   "display_name": "Python 3 (ipykernel)",
   "language": "python",
   "name": "python3"
  },
  "language_info": {
   "codemirror_mode": {
    "name": "ipython",
    "version": 3
   },
   "file_extension": ".py",
   "mimetype": "text/x-python",
   "name": "python",
   "nbconvert_exporter": "python",
   "pygments_lexer": "ipython3",
   "version": "3.8.10"
  }
 },
 "nbformat": 4,
 "nbformat_minor": 5
}
