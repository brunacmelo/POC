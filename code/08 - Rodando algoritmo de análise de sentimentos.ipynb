{
 "cells": [
  {
   "cell_type": "code",
   "execution_count": 1,
   "id": "fe76b26d",
   "metadata": {},
   "outputs": [],
   "source": [
    "import pandas as pd\n",
    "import numpy as np\n"
   ]
  },
  {
   "cell_type": "code",
   "execution_count": 6,
   "id": "488df0d5",
   "metadata": {},
   "outputs": [
    {
     "data": {
      "text/html": [
       "<div>\n",
       "<style scoped>\n",
       "    .dataframe tbody tr th:only-of-type {\n",
       "        vertical-align: middle;\n",
       "    }\n",
       "\n",
       "    .dataframe tbody tr th {\n",
       "        vertical-align: top;\n",
       "    }\n",
       "\n",
       "    .dataframe thead th {\n",
       "        text-align: right;\n",
       "    }\n",
       "</style>\n",
       "<table border=\"1\" class=\"dataframe\">\n",
       "  <thead>\n",
       "    <tr style=\"text-align: right;\">\n",
       "      <th></th>\n",
       "      <th>Unnamed: 0</th>\n",
       "      <th>artists</th>\n",
       "      <th>songs_names</th>\n",
       "      <th>lyrics</th>\n",
       "    </tr>\n",
       "  </thead>\n",
       "  <tbody>\n",
       "    <tr>\n",
       "      <th>0</th>\n",
       "      <td>0</td>\n",
       "      <td>Felipe Araújo</td>\n",
       "      <td>Atrasadinha</td>\n",
       "      <td>Atrasadinha (Ao Vivo) Lyrics[Letra de \"Atrasad...</td>\n",
       "    </tr>\n",
       "    <tr>\n",
       "      <th>1</th>\n",
       "      <td>1</td>\n",
       "      <td>MC L da Vinte</td>\n",
       "      <td>Parado no Bailão</td>\n",
       "      <td>Parado no Bailão Lyrics[Letra de \"Parado no Ba...</td>\n",
       "    </tr>\n",
       "    <tr>\n",
       "      <th>2</th>\n",
       "      <td>2</td>\n",
       "      <td>Zé Neto &amp; Cristiano</td>\n",
       "      <td>Notificação Preferida</td>\n",
       "      <td>Notificação Preferida Lyrics[Letra de \"Notific...</td>\n",
       "    </tr>\n",
       "    <tr>\n",
       "      <th>3</th>\n",
       "      <td>3</td>\n",
       "      <td>Marília Mendonça</td>\n",
       "      <td>Ciumeira</td>\n",
       "      <td>Ciumeira (Ao Vivo) Lyrics[Letra de \"Ciumeira\" ...</td>\n",
       "    </tr>\n",
       "    <tr>\n",
       "      <th>4</th>\n",
       "      <td>4</td>\n",
       "      <td>Márcia Fellipe</td>\n",
       "      <td>Quem Me Dera</td>\n",
       "      <td>Quem Me Dera Lyrics[Letra de \"Quem Me Dera\" co...</td>\n",
       "    </tr>\n",
       "  </tbody>\n",
       "</table>\n",
       "</div>"
      ],
      "text/plain": [
       "   Unnamed: 0              artists            songs_names  \\\n",
       "0           0        Felipe Araújo            Atrasadinha   \n",
       "1           1        MC L da Vinte       Parado no Bailão   \n",
       "2           2  Zé Neto & Cristiano  Notificação Preferida   \n",
       "3           3     Marília Mendonça               Ciumeira   \n",
       "4           4       Márcia Fellipe           Quem Me Dera   \n",
       "\n",
       "                                              lyrics  \n",
       "0  Atrasadinha (Ao Vivo) Lyrics[Letra de \"Atrasad...  \n",
       "1  Parado no Bailão Lyrics[Letra de \"Parado no Ba...  \n",
       "2  Notificação Preferida Lyrics[Letra de \"Notific...  \n",
       "3  Ciumeira (Ao Vivo) Lyrics[Letra de \"Ciumeira\" ...  \n",
       "4  Quem Me Dera Lyrics[Letra de \"Quem Me Dera\" co...  "
      ]
     },
     "execution_count": 6,
     "metadata": {},
     "output_type": "execute_result"
    }
   ],
   "source": [
    "songs_lyrics = pd.read_csv('songs_lyrics.csv')\n",
    "songs_lyrics.head()"
   ]
  },
  {
   "cell_type": "code",
   "execution_count": 11,
   "id": "dbb2813f",
   "metadata": {},
   "outputs": [],
   "source": [
    "# import packages\n",
    "import pandas as pd\n",
    "import numpy as np\n",
    "\n",
    "from tqdm.notebook import trange, tqdm\n",
    "from textblob import TextBlob\n",
    "from vaderSentiment.vaderSentiment import SentimentIntensityAnalyzer"
   ]
  },
  {
   "cell_type": "code",
   "execution_count": 12,
   "id": "78584590",
   "metadata": {},
   "outputs": [],
   "source": [
    "analyzer = SentimentIntensityAnalyzer()"
   ]
  },
  {
   "cell_type": "code",
   "execution_count": 18,
   "id": "918d97e4",
   "metadata": {},
   "outputs": [
    {
     "data": {
      "text/html": [
       "<div>\n",
       "<style scoped>\n",
       "    .dataframe tbody tr th:only-of-type {\n",
       "        vertical-align: middle;\n",
       "    }\n",
       "\n",
       "    .dataframe tbody tr th {\n",
       "        vertical-align: top;\n",
       "    }\n",
       "\n",
       "    .dataframe thead th {\n",
       "        text-align: right;\n",
       "    }\n",
       "</style>\n",
       "<table border=\"1\" class=\"dataframe\">\n",
       "  <thead>\n",
       "    <tr style=\"text-align: right;\">\n",
       "      <th></th>\n",
       "      <th>Unnamed: 0</th>\n",
       "      <th>artists</th>\n",
       "      <th>songs_names</th>\n",
       "      <th>lyrics</th>\n",
       "      <th>compound</th>\n",
       "      <th>neg</th>\n",
       "      <th>neu</th>\n",
       "      <th>pos</th>\n",
       "    </tr>\n",
       "  </thead>\n",
       "  <tbody>\n",
       "    <tr>\n",
       "      <th>0</th>\n",
       "      <td>0</td>\n",
       "      <td>Felipe Araújo</td>\n",
       "      <td>Atrasadinha</td>\n",
       "      <td>Atrasadinha (Ao Vivo) Lyrics[Letra de \"Atrasad...</td>\n",
       "      <td>-0.4314</td>\n",
       "      <td>0.010</td>\n",
       "      <td>0.990</td>\n",
       "      <td>0.000</td>\n",
       "    </tr>\n",
       "    <tr>\n",
       "      <th>1</th>\n",
       "      <td>1</td>\n",
       "      <td>MC L da Vinte</td>\n",
       "      <td>Parado no Bailão</td>\n",
       "      <td>Parado no Bailão Lyrics[Letra de \"Parado no Ba...</td>\n",
       "      <td>-0.9868</td>\n",
       "      <td>0.204</td>\n",
       "      <td>0.725</td>\n",
       "      <td>0.071</td>\n",
       "    </tr>\n",
       "    <tr>\n",
       "      <th>2</th>\n",
       "      <td>2</td>\n",
       "      <td>Zé Neto &amp; Cristiano</td>\n",
       "      <td>Notificação Preferida</td>\n",
       "      <td>Notificação Preferida Lyrics[Letra de \"Notific...</td>\n",
       "      <td>0.8402</td>\n",
       "      <td>0.000</td>\n",
       "      <td>0.962</td>\n",
       "      <td>0.038</td>\n",
       "    </tr>\n",
       "    <tr>\n",
       "      <th>3</th>\n",
       "      <td>3</td>\n",
       "      <td>Marília Mendonça</td>\n",
       "      <td>Ciumeira</td>\n",
       "      <td>Ciumeira (Ao Vivo) Lyrics[Letra de \"Ciumeira\" ...</td>\n",
       "      <td>0.4215</td>\n",
       "      <td>0.008</td>\n",
       "      <td>0.977</td>\n",
       "      <td>0.015</td>\n",
       "    </tr>\n",
       "    <tr>\n",
       "      <th>4</th>\n",
       "      <td>4</td>\n",
       "      <td>Márcia Fellipe</td>\n",
       "      <td>Quem Me Dera</td>\n",
       "      <td>Quem Me Dera Lyrics[Letra de \"Quem Me Dera\" co...</td>\n",
       "      <td>0.0000</td>\n",
       "      <td>0.000</td>\n",
       "      <td>1.000</td>\n",
       "      <td>0.000</td>\n",
       "    </tr>\n",
       "  </tbody>\n",
       "</table>\n",
       "</div>"
      ],
      "text/plain": [
       "   Unnamed: 0              artists            songs_names  \\\n",
       "0           0        Felipe Araújo            Atrasadinha   \n",
       "1           1        MC L da Vinte       Parado no Bailão   \n",
       "2           2  Zé Neto & Cristiano  Notificação Preferida   \n",
       "3           3     Marília Mendonça               Ciumeira   \n",
       "4           4       Márcia Fellipe           Quem Me Dera   \n",
       "\n",
       "                                              lyrics  compound    neg    neu  \\\n",
       "0  Atrasadinha (Ao Vivo) Lyrics[Letra de \"Atrasad...   -0.4314  0.010  0.990   \n",
       "1  Parado no Bailão Lyrics[Letra de \"Parado no Ba...   -0.9868  0.204  0.725   \n",
       "2  Notificação Preferida Lyrics[Letra de \"Notific...    0.8402  0.000  0.962   \n",
       "3  Ciumeira (Ao Vivo) Lyrics[Letra de \"Ciumeira\" ...    0.4215  0.008  0.977   \n",
       "4  Quem Me Dera Lyrics[Letra de \"Quem Me Dera\" co...    0.0000  0.000  1.000   \n",
       "\n",
       "     pos  \n",
       "0  0.000  \n",
       "1  0.071  \n",
       "2  0.038  \n",
       "3  0.015  \n",
       "4  0.000  "
      ]
     },
     "execution_count": 18,
     "metadata": {},
     "output_type": "execute_result"
    }
   ],
   "source": [
    "#Add VADER metrics to dataframe\n",
    "songs_lyrics['compound'] = [analyzer.polarity_scores(str(v))['compound'] for v in songs_lyrics['lyrics']]\n",
    "songs_lyrics['neg'] = [analyzer.polarity_scores(str(v))['neg'] for v in songs_lyrics['lyrics']]\n",
    "songs_lyrics['neu'] = [analyzer.polarity_scores(str(v))['neu'] for v in songs_lyrics['lyrics']]\n",
    "songs_lyrics['pos'] = [analyzer.polarity_scores(str(v))['pos'] for v in songs_lyrics['lyrics']]\n",
    "songs_lyrics.head()"
   ]
  },
  {
   "cell_type": "code",
   "execution_count": 19,
   "id": "dbf18a77",
   "metadata": {},
   "outputs": [],
   "source": [
    "songs_lyrics.to_csv('songs_lyrics_sentiments.csv')"
   ]
  },
  {
   "cell_type": "code",
   "execution_count": 15,
   "id": "de764b43",
   "metadata": {},
   "outputs": [],
   "source": [
    "songs_lyrics_compound = []\n",
    "songs_lyrics_neg = []\n",
    "songs_lyrics_neu = []\n",
    "songs_lyrics_pos = []"
   ]
  },
  {
   "cell_type": "code",
   "execution_count": 17,
   "id": "6141f88f",
   "metadata": {},
   "outputs": [
    {
     "ename": "TypeError",
     "evalue": "'float' object is not iterable",
     "output_type": "error",
     "traceback": [
      "\u001b[1;31m---------------------------------------------------------------------------\u001b[0m",
      "\u001b[1;31mTypeError\u001b[0m                                 Traceback (most recent call last)",
      "Input \u001b[1;32mIn [17]\u001b[0m, in \u001b[0;36m<cell line: 1>\u001b[1;34m()\u001b[0m\n\u001b[0;32m      1\u001b[0m \u001b[38;5;28;01mfor\u001b[39;00m lyric \u001b[38;5;129;01min\u001b[39;00m songs_lyrics[\u001b[38;5;124m'\u001b[39m\u001b[38;5;124mlyrics\u001b[39m\u001b[38;5;124m'\u001b[39m]:\n\u001b[1;32m----> 2\u001b[0m     scores \u001b[38;5;241m=\u001b[39m \u001b[43manalyzer\u001b[49m\u001b[38;5;241;43m.\u001b[39;49m\u001b[43mpolarity_scores\u001b[49m\u001b[43m(\u001b[49m\u001b[43mlyric\u001b[49m\u001b[43m)\u001b[49m\n\u001b[0;32m      3\u001b[0m     songs_lyrics_compound\u001b[38;5;241m.\u001b[39mappend(scores[\u001b[38;5;124m'\u001b[39m\u001b[38;5;124mcompound\u001b[39m\u001b[38;5;124m'\u001b[39m])\n\u001b[0;32m      4\u001b[0m     songs_lyrics_neg\u001b[38;5;241m.\u001b[39mappend(scores[\u001b[38;5;124m'\u001b[39m\u001b[38;5;124mneg\u001b[39m\u001b[38;5;124m'\u001b[39m])\n",
      "File \u001b[1;32m~\\anaconda3\\lib\\site-packages\\vaderSentiment\\vaderSentiment.py:241\u001b[0m, in \u001b[0;36mSentimentIntensityAnalyzer.polarity_scores\u001b[1;34m(self, text)\u001b[0m\n\u001b[0;32m    239\u001b[0m text_no_emoji \u001b[38;5;241m=\u001b[39m \u001b[38;5;124m\"\u001b[39m\u001b[38;5;124m\"\u001b[39m\n\u001b[0;32m    240\u001b[0m prev_space \u001b[38;5;241m=\u001b[39m \u001b[38;5;28;01mTrue\u001b[39;00m\n\u001b[1;32m--> 241\u001b[0m \u001b[38;5;28;01mfor\u001b[39;00m \u001b[38;5;28mchr\u001b[39m \u001b[38;5;129;01min\u001b[39;00m text:\n\u001b[0;32m    242\u001b[0m     \u001b[38;5;28;01mif\u001b[39;00m \u001b[38;5;28mchr\u001b[39m \u001b[38;5;129;01min\u001b[39;00m \u001b[38;5;28mself\u001b[39m\u001b[38;5;241m.\u001b[39memojis:\n\u001b[0;32m    243\u001b[0m         \u001b[38;5;66;03m# get the textual description\u001b[39;00m\n\u001b[0;32m    244\u001b[0m         description \u001b[38;5;241m=\u001b[39m \u001b[38;5;28mself\u001b[39m\u001b[38;5;241m.\u001b[39memojis[\u001b[38;5;28mchr\u001b[39m]\n",
      "\u001b[1;31mTypeError\u001b[0m: 'float' object is not iterable"
     ]
    }
   ],
   "source": [
    "for lyric in songs_lyrics['lyrics']:\n",
    "    scores = analyzer.polarity_scores(lyric)\n",
    "    songs_lyrics_compound.append(scores['compound'])\n",
    "    songs_lyrics_neg.append(scores['neg'])\n",
    "    songs_lyrics_neu.append(scores['neu'])\n",
    "    songs_lyrics_pos.append(scores['pos'])"
   ]
  },
  {
   "cell_type": "code",
   "execution_count": 2,
   "id": "c05834c6",
   "metadata": {},
   "outputs": [
    {
     "data": {
      "text/html": [
       "<div>\n",
       "<style scoped>\n",
       "    .dataframe tbody tr th:only-of-type {\n",
       "        vertical-align: middle;\n",
       "    }\n",
       "\n",
       "    .dataframe tbody tr th {\n",
       "        vertical-align: top;\n",
       "    }\n",
       "\n",
       "    .dataframe thead th {\n",
       "        text-align: right;\n",
       "    }\n",
       "</style>\n",
       "<table border=\"1\" class=\"dataframe\">\n",
       "  <thead>\n",
       "    <tr style=\"text-align: right;\">\n",
       "      <th></th>\n",
       "      <th>Unnamed: 0.1</th>\n",
       "      <th>Unnamed: 0</th>\n",
       "      <th>artists</th>\n",
       "      <th>songs_names</th>\n",
       "      <th>lyrics</th>\n",
       "      <th>compound</th>\n",
       "      <th>neg</th>\n",
       "      <th>neu</th>\n",
       "      <th>pos</th>\n",
       "    </tr>\n",
       "  </thead>\n",
       "  <tbody>\n",
       "    <tr>\n",
       "      <th>0</th>\n",
       "      <td>0</td>\n",
       "      <td>0</td>\n",
       "      <td>Felipe Araújo</td>\n",
       "      <td>Atrasadinha</td>\n",
       "      <td>Atrasadinha (Ao Vivo) Lyrics[Letra de \"Atrasad...</td>\n",
       "      <td>-0.4314</td>\n",
       "      <td>0.010</td>\n",
       "      <td>0.990</td>\n",
       "      <td>0.000</td>\n",
       "    </tr>\n",
       "    <tr>\n",
       "      <th>1</th>\n",
       "      <td>1</td>\n",
       "      <td>1</td>\n",
       "      <td>MC L da Vinte</td>\n",
       "      <td>Parado no Bailão</td>\n",
       "      <td>Parado no Bailão Lyrics[Letra de \"Parado no Ba...</td>\n",
       "      <td>-0.9868</td>\n",
       "      <td>0.204</td>\n",
       "      <td>0.725</td>\n",
       "      <td>0.071</td>\n",
       "    </tr>\n",
       "    <tr>\n",
       "      <th>2</th>\n",
       "      <td>2</td>\n",
       "      <td>2</td>\n",
       "      <td>Zé Neto &amp; Cristiano</td>\n",
       "      <td>Notificação Preferida</td>\n",
       "      <td>Notificação Preferida Lyrics[Letra de \"Notific...</td>\n",
       "      <td>0.8402</td>\n",
       "      <td>0.000</td>\n",
       "      <td>0.962</td>\n",
       "      <td>0.038</td>\n",
       "    </tr>\n",
       "    <tr>\n",
       "      <th>3</th>\n",
       "      <td>3</td>\n",
       "      <td>3</td>\n",
       "      <td>Marília Mendonça</td>\n",
       "      <td>Ciumeira</td>\n",
       "      <td>Ciumeira (Ao Vivo) Lyrics[Letra de \"Ciumeira\" ...</td>\n",
       "      <td>0.4215</td>\n",
       "      <td>0.008</td>\n",
       "      <td>0.977</td>\n",
       "      <td>0.015</td>\n",
       "    </tr>\n",
       "    <tr>\n",
       "      <th>4</th>\n",
       "      <td>4</td>\n",
       "      <td>4</td>\n",
       "      <td>Márcia Fellipe</td>\n",
       "      <td>Quem Me Dera</td>\n",
       "      <td>Quem Me Dera Lyrics[Letra de \"Quem Me Dera\" co...</td>\n",
       "      <td>0.0000</td>\n",
       "      <td>0.000</td>\n",
       "      <td>1.000</td>\n",
       "      <td>0.000</td>\n",
       "    </tr>\n",
       "  </tbody>\n",
       "</table>\n",
       "</div>"
      ],
      "text/plain": [
       "   Unnamed: 0.1  Unnamed: 0              artists            songs_names  \\\n",
       "0             0           0        Felipe Araújo            Atrasadinha   \n",
       "1             1           1        MC L da Vinte       Parado no Bailão   \n",
       "2             2           2  Zé Neto & Cristiano  Notificação Preferida   \n",
       "3             3           3     Marília Mendonça               Ciumeira   \n",
       "4             4           4       Márcia Fellipe           Quem Me Dera   \n",
       "\n",
       "                                              lyrics  compound    neg    neu  \\\n",
       "0  Atrasadinha (Ao Vivo) Lyrics[Letra de \"Atrasad...   -0.4314  0.010  0.990   \n",
       "1  Parado no Bailão Lyrics[Letra de \"Parado no Ba...   -0.9868  0.204  0.725   \n",
       "2  Notificação Preferida Lyrics[Letra de \"Notific...    0.8402  0.000  0.962   \n",
       "3  Ciumeira (Ao Vivo) Lyrics[Letra de \"Ciumeira\" ...    0.4215  0.008  0.977   \n",
       "4  Quem Me Dera Lyrics[Letra de \"Quem Me Dera\" co...    0.0000  0.000  1.000   \n",
       "\n",
       "     pos  \n",
       "0  0.000  \n",
       "1  0.071  \n",
       "2  0.038  \n",
       "3  0.015  \n",
       "4  0.000  "
      ]
     },
     "execution_count": 2,
     "metadata": {},
     "output_type": "execute_result"
    }
   ],
   "source": [
    "songs_lyrics = pd.read_csv('../data/songs_lyrics_sentiments.csv')\n",
    "songs_lyrics.head()"
   ]
  },
  {
   "cell_type": "code",
   "execution_count": 3,
   "id": "b24cec7c",
   "metadata": {},
   "outputs": [],
   "source": [
    "media_compound = np.mean(songs_lyrics['compound'])"
   ]
  },
  {
   "cell_type": "code",
   "execution_count": 4,
   "id": "7a39b55c",
   "metadata": {},
   "outputs": [
    {
     "data": {
      "text/plain": [
       "0.14345334784975503"
      ]
     },
     "execution_count": 4,
     "metadata": {},
     "output_type": "execute_result"
    }
   ],
   "source": [
    "media_compound"
   ]
  },
  {
   "cell_type": "code",
   "execution_count": 5,
   "id": "1423057c",
   "metadata": {},
   "outputs": [
    {
     "name": "stdout",
     "output_type": "stream",
     "text": [
      "0.03657212847033208 0.9079319542732717 0.05551823625476325\n"
     ]
    }
   ],
   "source": [
    "neg_compound = np.mean(songs_lyrics['neg'])\n",
    "neu_compound = np.mean(songs_lyrics['neu'])\n",
    "pos_compound = np.mean(songs_lyrics['pos'])\n",
    "\n",
    "print(neg_compound, neu_compound, pos_compound)"
   ]
  },
  {
   "cell_type": "code",
   "execution_count": null,
   "id": "5c8d7fbc",
   "metadata": {},
   "outputs": [],
   "source": []
  }
 ],
 "metadata": {
  "kernelspec": {
   "display_name": "Python 3 (ipykernel)",
   "language": "python",
   "name": "python3"
  },
  "language_info": {
   "codemirror_mode": {
    "name": "ipython",
    "version": 3
   },
   "file_extension": ".py",
   "mimetype": "text/x-python",
   "name": "python",
   "nbconvert_exporter": "python",
   "pygments_lexer": "ipython3",
   "version": "3.9.12"
  }
 },
 "nbformat": 4,
 "nbformat_minor": 5
}
