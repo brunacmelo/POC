{
 "cells": [
  {
   "cell_type": "code",
   "execution_count": 3,
   "id": "fa16fa8d",
   "metadata": {},
   "outputs": [],
   "source": [
    "import pandas as pd\n",
    "import numpy as np\n",
    "import matplotlib.pyplot as plt\n",
    "import datetime as dt\n",
    "import sys\n",
    "from pprint import pprint\n",
    "import pandas as pd\n",
    "import os\n",
    "import json\n",
    "import numpy as np\n",
    "import pandas"
   ]
  },
  {
   "cell_type": "code",
   "execution_count": 6,
   "id": "b5ada732",
   "metadata": {},
   "outputs": [],
   "source": [
    "list_of_files = sorted( filter( lambda x: os.path.isfile(os.path.join('../data/primeiro_2020', x)),\n",
    "                        os.listdir('../data/primeiro_2020') ))"
   ]
  },
  {
   "cell_type": "code",
   "execution_count": null,
   "id": "1db04e7b",
   "metadata": {},
   "outputs": [],
   "source": [
    "compound = []\n",
    "directory = '../data/primeiro_2020'\n",
    "for filename in list_of_files:\n",
    "    if filename.endswith(\".csv\"):\n",
    "        compound_daily = []\n",
    "        path = directory + '/' + filename\n",
    "        chart = pd.read_csv(path, encoding='utf-8', delimiter='\\t')\n",
    "        for i in chart['ID']:\n",
    "            compound_\n",
    "        dates.append(filename[18:28])\n",
    "        \n",
    "        danceability_medias.append(np.mean(danceability_week))\n",
    "        valence_medias.append(np.mean(valence_week))\n",
    "        energy_medias.append(np.mean(energy_week))\n",
    "        tempo_medias.append(np.mean(tempo_week))\n",
    "        \n",
    "        danceability_median.append(np.median(danceability_week))\n",
    "        valence_median.append(np.median(valence_week))\n",
    "        energy_median.append(np.median(energy_week))\n",
    "        tempo_median.append(np.median(tempo_week))"
   ]
  }
 ],
 "metadata": {
  "kernelspec": {
   "display_name": "Python 3 (ipykernel)",
   "language": "python",
   "name": "python3"
  },
  "language_info": {
   "codemirror_mode": {
    "name": "ipython",
    "version": 3
   },
   "file_extension": ".py",
   "mimetype": "text/x-python",
   "name": "python",
   "nbconvert_exporter": "python",
   "pygments_lexer": "ipython3",
   "version": "3.9.12"
  }
 },
 "nbformat": 4,
 "nbformat_minor": 5
}
