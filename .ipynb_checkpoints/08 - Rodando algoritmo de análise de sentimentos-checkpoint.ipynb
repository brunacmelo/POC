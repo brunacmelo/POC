{
 "cells": [
  {
   "cell_type": "code",
   "execution_count": 4,
   "id": "ad4c9a05",
   "metadata": {},
   "outputs": [],
   "source": [
    "import pandas as pd\n",
    "import numpy as np\n"
   ]
  },
  {
   "cell_type": "code",
   "execution_count": 6,
   "id": "7538c75c",
   "metadata": {},
   "outputs": [
    {
     "data": {
      "text/html": [
       "<div>\n",
       "<style scoped>\n",
       "    .dataframe tbody tr th:only-of-type {\n",
       "        vertical-align: middle;\n",
       "    }\n",
       "\n",
       "    .dataframe tbody tr th {\n",
       "        vertical-align: top;\n",
       "    }\n",
       "\n",
       "    .dataframe thead th {\n",
       "        text-align: right;\n",
       "    }\n",
       "</style>\n",
       "<table border=\"1\" class=\"dataframe\">\n",
       "  <thead>\n",
       "    <tr style=\"text-align: right;\">\n",
       "      <th></th>\n",
       "      <th>Unnamed: 0</th>\n",
       "      <th>artists</th>\n",
       "      <th>songs_names</th>\n",
       "      <th>lyrics</th>\n",
       "    </tr>\n",
       "  </thead>\n",
       "  <tbody>\n",
       "    <tr>\n",
       "      <th>0</th>\n",
       "      <td>0</td>\n",
       "      <td>Felipe Araújo</td>\n",
       "      <td>Atrasadinha</td>\n",
       "      <td>Atrasadinha (Ao Vivo) Lyrics[Letra de \"Atrasad...</td>\n",
       "    </tr>\n",
       "    <tr>\n",
       "      <th>1</th>\n",
       "      <td>1</td>\n",
       "      <td>MC L da Vinte</td>\n",
       "      <td>Parado no Bailão</td>\n",
       "      <td>Parado no Bailão Lyrics[Letra de \"Parado no Ba...</td>\n",
       "    </tr>\n",
       "    <tr>\n",
       "      <th>2</th>\n",
       "      <td>2</td>\n",
       "      <td>Zé Neto &amp; Cristiano</td>\n",
       "      <td>Notificação Preferida</td>\n",
       "      <td>Notificação Preferida Lyrics[Letra de \"Notific...</td>\n",
       "    </tr>\n",
       "    <tr>\n",
       "      <th>3</th>\n",
       "      <td>3</td>\n",
       "      <td>Marília Mendonça</td>\n",
       "      <td>Ciumeira</td>\n",
       "      <td>Ciumeira (Ao Vivo) Lyrics[Letra de \"Ciumeira\" ...</td>\n",
       "    </tr>\n",
       "    <tr>\n",
       "      <th>4</th>\n",
       "      <td>4</td>\n",
       "      <td>Márcia Fellipe</td>\n",
       "      <td>Quem Me Dera</td>\n",
       "      <td>Quem Me Dera Lyrics[Letra de \"Quem Me Dera\" co...</td>\n",
       "    </tr>\n",
       "  </tbody>\n",
       "</table>\n",
       "</div>"
      ],
      "text/plain": [
       "   Unnamed: 0              artists            songs_names  \\\n",
       "0           0        Felipe Araújo            Atrasadinha   \n",
       "1           1        MC L da Vinte       Parado no Bailão   \n",
       "2           2  Zé Neto & Cristiano  Notificação Preferida   \n",
       "3           3     Marília Mendonça               Ciumeira   \n",
       "4           4       Márcia Fellipe           Quem Me Dera   \n",
       "\n",
       "                                              lyrics  \n",
       "0  Atrasadinha (Ao Vivo) Lyrics[Letra de \"Atrasad...  \n",
       "1  Parado no Bailão Lyrics[Letra de \"Parado no Ba...  \n",
       "2  Notificação Preferida Lyrics[Letra de \"Notific...  \n",
       "3  Ciumeira (Ao Vivo) Lyrics[Letra de \"Ciumeira\" ...  \n",
       "4  Quem Me Dera Lyrics[Letra de \"Quem Me Dera\" co...  "
      ]
     },
     "execution_count": 6,
     "metadata": {},
     "output_type": "execute_result"
    }
   ],
   "source": [
    "songs_lyrics = pd.read_csv('songs_lyrics.csv')\n",
    "songs_lyrics.head()"
   ]
  },
  {
   "cell_type": "code",
   "execution_count": 11,
   "id": "a1584030",
   "metadata": {},
   "outputs": [],
   "source": [
    "# import packages\n",
    "import pandas as pd\n",
    "import numpy as np\n",
    "\n",
    "from tqdm.notebook import trange, tqdm\n",
    "from textblob import TextBlob\n",
    "from vaderSentiment.vaderSentiment import SentimentIntensityAnalyzer"
   ]
  },
  {
   "cell_type": "code",
   "execution_count": 12,
   "id": "993b969d",
   "metadata": {},
   "outputs": [],
   "source": [
    "analyzer = SentimentIntensityAnalyzer()"
   ]
  },
  {
   "cell_type": "code",
   "execution_count": null,
   "id": "038d6492",
   "metadata": {},
   "outputs": [],
   "source": [
    "#Add VADER metrics to dataframe\n",
    "songs_lyrics['compound'] = [analyzer.polarity_scores(str(v))['compound'] for v in songs_lyrics['lyrics']]\n",
    "songs_lyrics['neg'] = [analyzer.polarity_scores(str(v))['neg'] for v in songs_lyrics['lyrics']]\n",
    "songs_lyrics['neu'] = [analyzer.polarity_scores(str(v))['neu'] for v in songs_lyrics['lyrics']]\n",
    "songs_lyrics['pos'] = [analyzer.polarity_scores(str(v))['pos'] for v in songs_lyrics['lyrics']]\n",
    "songs_lyrics.head()"
   ]
  },
  {
   "cell_type": "code",
   "execution_count": 15,
   "id": "957f89e1",
   "metadata": {},
   "outputs": [],
   "source": [
    "songs_lyrics_compound = []\n",
    "songs_lyrics_neg = []\n",
    "songs_lyrics_neu = []\n",
    "songs_lyrics_pos = []"
   ]
  },
  {
   "cell_type": "code",
   "execution_count": 17,
   "id": "0a1fa3b5",
   "metadata": {},
   "outputs": [
    {
     "ename": "TypeError",
     "evalue": "'float' object is not iterable",
     "output_type": "error",
     "traceback": [
      "\u001b[1;31m---------------------------------------------------------------------------\u001b[0m",
      "\u001b[1;31mTypeError\u001b[0m                                 Traceback (most recent call last)",
      "Input \u001b[1;32mIn [17]\u001b[0m, in \u001b[0;36m<cell line: 1>\u001b[1;34m()\u001b[0m\n\u001b[0;32m      1\u001b[0m \u001b[38;5;28;01mfor\u001b[39;00m lyric \u001b[38;5;129;01min\u001b[39;00m songs_lyrics[\u001b[38;5;124m'\u001b[39m\u001b[38;5;124mlyrics\u001b[39m\u001b[38;5;124m'\u001b[39m]:\n\u001b[1;32m----> 2\u001b[0m     scores \u001b[38;5;241m=\u001b[39m \u001b[43manalyzer\u001b[49m\u001b[38;5;241;43m.\u001b[39;49m\u001b[43mpolarity_scores\u001b[49m\u001b[43m(\u001b[49m\u001b[43mlyric\u001b[49m\u001b[43m)\u001b[49m\n\u001b[0;32m      3\u001b[0m     songs_lyrics_compound\u001b[38;5;241m.\u001b[39mappend(scores[\u001b[38;5;124m'\u001b[39m\u001b[38;5;124mcompound\u001b[39m\u001b[38;5;124m'\u001b[39m])\n\u001b[0;32m      4\u001b[0m     songs_lyrics_neg\u001b[38;5;241m.\u001b[39mappend(scores[\u001b[38;5;124m'\u001b[39m\u001b[38;5;124mneg\u001b[39m\u001b[38;5;124m'\u001b[39m])\n",
      "File \u001b[1;32m~\\anaconda3\\lib\\site-packages\\vaderSentiment\\vaderSentiment.py:241\u001b[0m, in \u001b[0;36mSentimentIntensityAnalyzer.polarity_scores\u001b[1;34m(self, text)\u001b[0m\n\u001b[0;32m    239\u001b[0m text_no_emoji \u001b[38;5;241m=\u001b[39m \u001b[38;5;124m\"\u001b[39m\u001b[38;5;124m\"\u001b[39m\n\u001b[0;32m    240\u001b[0m prev_space \u001b[38;5;241m=\u001b[39m \u001b[38;5;28;01mTrue\u001b[39;00m\n\u001b[1;32m--> 241\u001b[0m \u001b[38;5;28;01mfor\u001b[39;00m \u001b[38;5;28mchr\u001b[39m \u001b[38;5;129;01min\u001b[39;00m text:\n\u001b[0;32m    242\u001b[0m     \u001b[38;5;28;01mif\u001b[39;00m \u001b[38;5;28mchr\u001b[39m \u001b[38;5;129;01min\u001b[39;00m \u001b[38;5;28mself\u001b[39m\u001b[38;5;241m.\u001b[39memojis:\n\u001b[0;32m    243\u001b[0m         \u001b[38;5;66;03m# get the textual description\u001b[39;00m\n\u001b[0;32m    244\u001b[0m         description \u001b[38;5;241m=\u001b[39m \u001b[38;5;28mself\u001b[39m\u001b[38;5;241m.\u001b[39memojis[\u001b[38;5;28mchr\u001b[39m]\n",
      "\u001b[1;31mTypeError\u001b[0m: 'float' object is not iterable"
     ]
    }
   ],
   "source": [
    "for lyric in songs_lyrics['lyrics']:\n",
    "    scores = analyzer.polarity_scores(lyric)\n",
    "    songs_lyrics_compound.append(scores['compound'])\n",
    "    songs_lyrics_neg.append(scores['neg'])\n",
    "    songs_lyrics_neu.append(scores['neu'])\n",
    "    songs_lyrics_pos.append(scores['pos'])"
   ]
  },
  {
   "cell_type": "code",
   "execution_count": null,
   "id": "66d42db9",
   "metadata": {},
   "outputs": [],
   "source": []
  }
 ],
 "metadata": {
  "kernelspec": {
   "display_name": "Python 3 (ipykernel)",
   "language": "python",
   "name": "python3"
  },
  "language_info": {
   "codemirror_mode": {
    "name": "ipython",
    "version": 3
   },
   "file_extension": ".py",
   "mimetype": "text/x-python",
   "name": "python",
   "nbconvert_exporter": "python",
   "pygments_lexer": "ipython3",
   "version": "3.9.12"
  }
 },
 "nbformat": 4,
 "nbformat_minor": 5
}
